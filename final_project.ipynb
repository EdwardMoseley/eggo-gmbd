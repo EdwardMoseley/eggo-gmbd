{
 "cells": [
  {
   "cell_type": "markdown",
   "metadata": {},
   "source": [
    "# Graphical Models for Biological Data : Final Project \n",
    "\n",
    "- Fall 2024 \n",
    "- Authors: jtm98, Ned Ed Neddy \n",
    "\n",
    "# Model 0: Naive Estimator \n",
    "\n",
    "$$ Y_i \\sim X_i * \\beta $$\n",
    "\n",
    "$$\\beta \\sim X_{experiment} / X_{control} $$\n",
    "\n",
    "\n",
    "Naively, one can estimate $\\beta$ for a gene-enhancer by dividing the average experiment expression by the average control expression. \n"
   ]
  },
  {
   "cell_type": "code",
   "execution_count": 14,
   "metadata": {},
   "outputs": [],
   "source": [
    "import os\n",
    "import numpy as np \n",
    "from cmdstanpy import cmdstan_path, CmdStanModel"
   ]
  },
  {
   "cell_type": "markdown",
   "metadata": {},
   "source": [
    "# Model 1: Massaging Gaussian Mixture Model \n",
    "\n",
    "jtm98 \n",
    "Created: 10.29.24\n",
    "\n",
    "$$ X_i \\sim r N (\\mu,\\sigma^2) + (1-r) N (\\beta*\\mu,\\sigma^2) $$\n",
    "\n",
    "- $X_i$ is cell expression \n",
    "- $r$ is a mixture proportion of label $Z_i$\n",
    "- $Z_i \\in {0,1} $ and represents whether a cell had normal (0) or decreased (1)  expression \n",
    "- $\\mu$ is the mean of individuals w/normal expression\n",
    "- $\\beta$ is the enhancer coefficient \n"
   ]
  },
  {
   "cell_type": "code",
   "execution_count": null,
   "metadata": {},
   "outputs": [],
   "source": [
    "mixture =\"\"\"\n",
    "\n",
    "// Assessing if beta parameter is inferable \n",
    "data {\n",
    "int<lower=1> N; // number of samples\n",
    "array[N] real X; // expression in the sample \n",
    "}\n",
    "\n",
    "parameters {\n",
    "real<lower=0,upper=1> r; // mixture proportion of samples \n",
    "real<lower=0.0> sigma; // standard deviation \n",
    "real mu; // mean of individuals w/ normal expression\n",
    "real beta; // enhancer coefficient\n",
    "}\n",
    "\n",
    "model {\n",
    "r ~ beta(2,2); // mixture proportion based on natural scale \n",
    "mu ~ normal(0,10); \n",
    "beta ~ beta(2,2); // enhancer coefificent should be [0,1]\n",
    "sigma ~ inv_gamma(1,1); \n",
    "for(i in 1:N)\n",
    "target+= log_sum_exp(log(r)+normal_lpdf(X[i]|mu,sigma),\n",
    "log(1-r)+normal_lpdf(X[i]|beta*mu,sigma));\n",
    "}\n",
    "\n",
    "generated quantities {\n",
    "array[N] real<lower=0,upper=1> PZi;\n",
    "for(i in 1:N) {\n",
    "real LP0=log(r)+normal_lpdf(X[i]|mu,sigma);\n",
    "real LP1=log(1-r)+normal_lpdf(X[i]|beta*mu,sigma);\n",
    "PZi[i]=exp(LP0-log_sum_exp(LP0,LP1));\n",
    "}\n",
    "}\n",
    "\"\"\"\n",
    "! mkdir mixture\n",
    "with open('mixture/mixture.stan', 'w') as f: f.write(mixture) \n",
    "! cat mixture/mixture.stan"
   ]
  },
  {
   "cell_type": "code",
   "execution_count": 3,
   "metadata": {},
   "outputs": [
    {
     "name": "stderr",
     "output_type": "stream",
     "text": [
      "21:55:57 - cmdstanpy - INFO - compiling stan file /Users/jasonmohabir/Documents/Duke/Courses/GraphicalModels/final_project/mixture/mixture.stan to exe file /Users/jasonmohabir/Documents/Duke/Courses/GraphicalModels/final_project/mixture/mixture\n",
      "21:56:06 - cmdstanpy - INFO - compiled model executable: /Users/jasonmohabir/Documents/Duke/Courses/GraphicalModels/final_project/mixture/mixture\n"
     ]
    }
   ],
   "source": [
    "mixture = CmdStanModel(stan_file='mixture/mixture.stan')"
   ]
  },
  {
   "cell_type": "code",
   "execution_count": 5,
   "metadata": {},
   "outputs": [],
   "source": [
    "\n",
    "pos_expression = 100\n",
    "neg_expression = 90 \n",
    "true_beta = neg_expression / pos_expression # true beta value\n",
    "\n",
    "# Simulate random data \n",
    "pos = np.random.normal(100,0.3,50)\n",
    "neg = np.random.normal(90,0.3,50)\n",
    "data = {'X' : np.concatenate([pos,neg]), 'N' : 100}\n",
    "inits = { 'mu': 1, 'sigma': 0.3, 'r': 0.5, 'beta': .5 }"
   ]
  },
  {
   "cell_type": "code",
   "execution_count": null,
   "metadata": {},
   "outputs": [],
   "source": [
    "mixture_fit = mixture.sample(data=data,thin=1,iter_sampling=1000,iter_warmup=50,inits=inits,seed=11051999)\n",
    "mixture_fit.summary()['Mean']"
   ]
  },
  {
   "cell_type": "code",
   "execution_count": 8,
   "metadata": {},
   "outputs": [
    {
     "name": "stdout",
     "output_type": "stream",
     "text": [
      "Estimated Beta: 0.709097\n",
      "True Beta: 0.9\n"
     ]
    }
   ],
   "source": [
    "estimated_beta = mixture_fit.summary().loc['beta']['Mean']\n",
    "print('Estimated Beta:',estimated_beta)\n",
    "print('True Beta:',true_beta)"
   ]
  },
  {
   "cell_type": "markdown",
   "metadata": {},
   "source": [
    "# Model 2: Hierarchical Mixture Model\n",
    "\n",
    "Updated: 11.09.24\n",
    "\n",
    "\n",
    "$$ X_i \\sim r N (\\mu,\\sigma^2) + (1-r) N (\\beta_{enhancer}*\\mu,\\sigma^2) $$\n",
    "\n",
    "- $X_i$ is cell expression \n",
    "- $r$ is a mixture proportion of label $Z_i$\n",
    "- $Z_i \\in {0,1} $ and represents whether a cell had non-functional (0) or functional (1) guide \n",
    "- $\\mu$ is the mean of individuals w/normal expression\n",
    "- $\\beta$ is the enhancer coefficient "
   ]
  },
  {
   "cell_type": "code",
   "execution_count": 15,
   "metadata": {},
   "outputs": [
    {
     "name": "stdout",
     "output_type": "stream",
     "text": [
      "mkdir: model4_pooled: File exists\n",
      "\n",
      "data {\n",
      "  int<lower=0> N_control;                   // Number of control samples\n",
      "  int<lower=0> N_experiment;                // Number of experimental samples\n",
      "  int<lower=0> N_enhancers;                 // Number of enhancers\n",
      "  int<lower=0> N_guides;                     // Number of guides\n",
      "  array[N_control] real<lower=0> y_control;  // Expression levels in control samples\n",
      "  array[N_experiment] real<lower=0> y_experiment;   // Expression levels in experimental samples\n",
      "  array[N_experiment] int<lower=1> guide;  // Guide index for each experiment sample (1 to 5)\n",
      "  array[N_experiment] int<lower=1> enhancer; // Enhancer index for each experiment sample (1 to 5)\n",
      "}\n",
      "\n",
      "transformed data {\n",
      "  real<lower=0> mu_control_observed = mean(y_control);            // Empirical mean of y_control\n",
      "  real<lower=0> sigma_control_observed = sd(y_control);           // Empirical standard deviation of y_control\n",
      "  \n",
      "  real<lower=0> mu_experiment_observed = mean(y_experiment);      // Empirical mean of y_experiment\n",
      "  real<lower=0> sigma_experiment_observed = sd(y_experiment);     // Empirical standard deviation of y_experiment\n",
      "\n",
      "  real beta_observed = mu_experiment_observed / mu_control_observed;   // Empirical effect size \n",
      "}\n",
      "\n",
      "parameters {\n",
      "  real<lower=0> mu_control;                 // Mean expression in control condition\n",
      "  array[N_enhancers] real<lower=0, upper=1> B;        // Effect sizes for each enhancer\n",
      "  real<lower=0, upper=10000> sigma_control; // Standard deviation in control condition\n",
      "  real<lower=0, upper=10000> sigma_experiment; // Standard deviation in experiment condition\n",
      "  array[N_guides] real<lower=0, upper=1> potency;  // Potency for each guide (0 to 1)\n",
      "}\n",
      "\n",
      "transformed parameters {\n",
      "  array[N_enhancers] real<lower=0> mu_experiment;     // Expression levels for each enhancer\n",
      "\n",
      "  for (e in 1:N_enhancers) {\n",
      "    mu_experiment[e] = B[e] * mu_control;   // Calculate experiment mean for each enhancer\n",
      "  }\n",
      "}\n",
      "\n",
      "model {\n",
      "  // Priors based on provided initial values\n",
      "  mu_control ~ normal(mu_control_observed, sigma_control_observed);\n",
      "  B ~ beta(0.5, 0.5);                      // Priors for each enhancer effect size\n",
      "  sigma_control ~ cauchy(sigma_control_observed, 2);\n",
      "  sigma_experiment ~ cauchy(sigma_experiment_observed, 2);\n",
      "  potency ~ beta(0.5, 0.5);                // Prior for potency of each guide\n",
      "\n",
      "  // Likelihoods\n",
      "  y_control ~ normal(mu_control, sigma_control); // Control samples from control distribution\n",
      "\n",
      "  for (n in 1:N_experiment) {\n",
      "    real mean_expr = (1 - potency[guide[n]]) * mu_control + potency[guide[n]] * mu_experiment[enhancer[n]];\n",
      "    y_experiment[n] ~ normal(mean_expr, sigma_experiment);\n",
      "  }\n",
      "}\n",
      "\n",
      "/*\n",
      "generated quantities {\n",
      "  array[N_guides] int<lower=0, upper=1> guide_functionality;\n",
      "\n",
      "  for (g in 1:N_guides) {\n",
      "    real log_nonfunctional = 0;\n",
      "    real log_functional = 0;\n",
      "\n",
      "    for (n in 1:N_experiment) {\n",
      "      if (guide[n] == g) {\n",
      "        log_nonfunctional += log1m(potency[g]) + normal_lpdf(y_experiment[n] | mu_control, sigma_control);\n",
      "        log_functional += log(potency[g]) + normal_lpdf(y_experiment[n] | mu_experiment[enhancer[n]], sigma_experiment);\n",
      "      }\n",
      "    }\n",
      "    guide_functionality[g] = log_functional > log_nonfunctional ? 1 : 0;\n",
      "  }\n",
      "}\n",
      "*/\n",
      "\n"
     ]
    }
   ],
   "source": [
    "# Model 0: Naive Estimator with no guide effect \n",
    "# Model 1: Mixture \n",
    "# Model 2: Mixture with guide potency and empirical priors \n",
    "# Model 3: Mixture with guide functionality generated quantities \n",
    "# Model 4: Pooled mixtured \n",
    "\n",
    "stan_code =\"\"\"\n",
    "data {\n",
    "  int<lower=0> N_control;                   // Number of control samples\n",
    "  int<lower=0> N_experiment;                // Number of experimental samples\n",
    "  int<lower=0> N_enhancers;                 // Number of enhancers\n",
    "  int<lower=0> N_guides;                     // Number of guides\n",
    "  array[N_control] real<lower=0> y_control;  // Expression levels in control samples\n",
    "  array[N_experiment] real<lower=0> y_experiment;   // Expression levels in experimental samples\n",
    "  array[N_experiment] int<lower=1> guide;  // Guide index for each experiment sample (1 to 5)\n",
    "  array[N_experiment] int<lower=1> enhancer; // Enhancer index for each experiment sample (1 to 5)\n",
    "}\n",
    "\n",
    "transformed data {\n",
    "  real<lower=0> mu_control_observed = mean(y_control);            // Empirical mean of y_control\n",
    "  real<lower=0> sigma_control_observed = sd(y_control);           // Empirical standard deviation of y_control\n",
    "  \n",
    "  real<lower=0> mu_experiment_observed = mean(y_experiment);      // Empirical mean of y_experiment\n",
    "  real<lower=0> sigma_experiment_observed = sd(y_experiment);     // Empirical standard deviation of y_experiment\n",
    "\n",
    "  real beta_observed = mu_experiment_observed / mu_control_observed;   // Empirical effect size \n",
    "}\n",
    "\n",
    "parameters {\n",
    "  real<lower=0> mu_control;                 // Mean expression in control condition\n",
    "  array[N_enhancers] real<lower=0, upper=1> B;        // Effect sizes for each enhancer\n",
    "  real<lower=0, upper=10000> sigma_control; // Standard deviation in control condition\n",
    "  real<lower=0, upper=10000> sigma_experiment; // Standard deviation in experiment condition\n",
    "  array[N_guides] real<lower=0, upper=1> potency;  // Potency for each guide (0 to 1)\n",
    "}\n",
    "\n",
    "transformed parameters {\n",
    "  array[N_enhancers] real<lower=0> mu_experiment;     // Expression levels for each enhancer\n",
    "\n",
    "  for (e in 1:N_enhancers) {\n",
    "    mu_experiment[e] = B[e] * mu_control;   // Calculate experiment mean for each enhancer\n",
    "  }\n",
    "}\n",
    "\n",
    "model {\n",
    "  // Priors based on provided initial values\n",
    "  mu_control ~ normal(mu_control_observed, sigma_control_observed);\n",
    "  B ~ beta(0.5, 0.5);                      // Priors for each enhancer effect size\n",
    "  sigma_control ~ cauchy(sigma_control_observed, 2);\n",
    "  sigma_experiment ~ cauchy(sigma_experiment_observed, 2);\n",
    "  potency ~ beta(0.5, 0.5);                // Prior for potency of each guide\n",
    "\n",
    "  // Likelihoods\n",
    "  y_control ~ normal(mu_control, sigma_control); // Control samples from control distribution\n",
    "\n",
    "  for (n in 1:N_experiment) {\n",
    "    real mean_expr = (1 - potency[guide[n]]) * mu_control + potency[guide[n]] * mu_experiment[enhancer[n]];\n",
    "    y_experiment[n] ~ normal(mean_expr, sigma_experiment);\n",
    "  }\n",
    "}\n",
    "\n",
    "/*\n",
    "generated quantities {\n",
    "  array[N_guides] int<lower=0, upper=1> guide_functionality;\n",
    "\n",
    "  for (g in 1:N_guides) {\n",
    "    real log_nonfunctional = 0;\n",
    "    real log_functional = 0;\n",
    "\n",
    "    for (n in 1:N_experiment) {\n",
    "      if (guide[n] == g) {\n",
    "        log_nonfunctional += log1m(potency[g]) + normal_lpdf(y_experiment[n] | mu_control, sigma_control);\n",
    "        log_functional += log(potency[g]) + normal_lpdf(y_experiment[n] | mu_experiment[enhancer[n]], sigma_experiment);\n",
    "      }\n",
    "    }\n",
    "    guide_functionality[g] = log_functional > log_nonfunctional ? 1 : 0;\n",
    "  }\n",
    "}\n",
    "*/\n",
    "\n",
    "\"\"\"\n",
    "name = 'model4_pooled'\n",
    "! mkdir {name}\n",
    "with open('%s/%s.stan'%(name,name), 'w') as f: f.write(stan_code) \n",
    "! cat {name}/{name}.stan"
   ]
  },
  {
   "cell_type": "code",
   "execution_count": 16,
   "metadata": {},
   "outputs": [
    {
     "name": "stderr",
     "output_type": "stream",
     "text": [
      "17:36:43 - cmdstanpy - INFO - compiling stan file /Users/jasonmohabir/Documents/Duke/Courses/GraphicalModels/final_project/model4_pooled/model4_pooled.stan to exe file /Users/jasonmohabir/Documents/Duke/Courses/GraphicalModels/final_project/model4_pooled/model4_pooled\n",
      "17:36:55 - cmdstanpy - INFO - compiled model executable: /Users/jasonmohabir/Documents/Duke/Courses/GraphicalModels/final_project/model4_pooled/model4_pooled\n"
     ]
    }
   ],
   "source": [
    "model = CmdStanModel(stan_file='%s/%s.stan'%(name,name))"
   ]
  },
  {
   "cell_type": "code",
   "execution_count": 17,
   "metadata": {},
   "outputs": [
    {
     "data": {
      "text/plain": [
       "{'N_control': 30,\n",
       " 'N_experiment': 750,\n",
       " 'N_enhancers': 5,\n",
       " 'N_guides': 25,\n",
       " 'y_control': array([25763, 19388, 17405, 29517, 17733, 19403, 15941, 25749, 27686,\n",
       "        28957, 22363, 23709, 20466, 18504, 24131, 18546, 20252, 31070,\n",
       "        24465, 18910, 19647, 23277, 21495, 19475, 22885, 13687, 25413,\n",
       "        21491, 25463, 20526]),\n",
       " 'y_experiment': array([12511, 20325, 17522, 18638, 17095, 17369, 16183, 18596, 20082,\n",
       "        20636, 16309, 19589, 21810, 17050, 16087, 18701, 14388, 16330,\n",
       "        22433, 18938, 17229, 16087, 18648, 13669, 21365, 17893, 17906,\n",
       "        14929, 19881, 18415, 20236, 12146, 21895, 20240, 17056, 19924,\n",
       "        15047, 19269, 17350, 21602, 27277, 14685, 19926, 14998, 20921,\n",
       "        17879, 15242, 20382, 13826, 17104, 22051, 14873, 22124, 21276,\n",
       "        21302, 16012, 20544, 18906, 17677, 20616, 22644, 20238, 19662,\n",
       "        21772, 20429, 19062, 27283, 25803, 18689, 25038, 25207, 12985,\n",
       "        25102, 10637, 16653, 30426, 19316, 23801, 20191, 19080, 20587,\n",
       "        20307, 18131, 18458, 20479, 33239, 23038, 19189, 20532, 23098,\n",
       "        18670, 18980, 18054, 13079, 21505, 20008, 22306, 17562, 17063,\n",
       "        27621, 29649, 19156, 24994, 20400, 19301, 26158, 17952, 19052,\n",
       "        22097, 22594, 20627, 14752, 21269, 19540, 21706, 18211, 19838,\n",
       "        22206, 15912, 29067, 22167, 27103, 17930, 14196, 24362, 15888,\n",
       "        18577, 17782, 24073, 16089, 19947, 21080, 17007, 18175, 21621,\n",
       "        15162, 21265, 14533, 23282, 17106, 15858, 19005, 18963, 23709,\n",
       "        22634, 24854, 17251, 15651, 14673, 21273,  9959, 16450, 20880,\n",
       "        13621, 11206, 13796, 13874, 12927, 12881, 11969, 10868, 10063,\n",
       "        12353, 10679, 14865,  9074, 12911, 11924, 13051, 15387, 12229,\n",
       "        13608, 11478, 12452, 14603, 14989, 13218, 13337, 12187, 12969,\n",
       "        21168, 24985, 22333, 24739, 19350, 26681, 18984, 21439, 22516,\n",
       "        18917, 15305, 18652, 26427, 16313, 20028, 16106, 22370, 18266,\n",
       "        24630, 20205, 18705, 23660, 22098, 24467, 25274, 18422, 18633,\n",
       "        25745, 24330, 21819, 27325, 21661, 22256, 17174, 21778, 19912,\n",
       "        19986, 14189, 24677, 17356, 25640, 13002, 19257, 21901, 27228,\n",
       "        16931, 17378, 20336, 17833, 24257, 18595, 18093, 22199, 22982,\n",
       "        18558, 20466, 20584, 20146, 23236, 21732, 20946, 22358, 18050,\n",
       "        20534, 33221, 17698, 23317, 21921, 15375, 24539, 23227, 25459,\n",
       "        16671, 20112, 24556, 27706, 19150, 24031, 23631, 20097, 22110,\n",
       "        15600, 31672, 18746, 25751, 23597, 20687, 28397, 22480, 26846,\n",
       "        20379, 23750, 21827, 20303, 21840, 19252, 17990, 25218, 27705,\n",
       "        20932, 28925, 27078, 16894, 16344, 21855, 18299, 20623, 25468,\n",
       "        20735, 26331, 24530, 18119, 19987, 18486, 18240, 15624, 16706,\n",
       "        21105, 20193, 27210, 22165, 19423, 16759, 24467, 24910, 15728,\n",
       "        22329, 24104, 32193, 17008, 15781, 24267, 19980, 24018, 16321,\n",
       "        27807, 25070, 14816, 22383, 24246, 19833, 25791, 25107, 21411,\n",
       "        14710, 18351, 20857, 18593, 20681, 19731, 24403, 14030, 24322,\n",
       "        19220, 24386, 25665, 24740, 28163, 17185, 15744, 25645, 21670,\n",
       "        19798, 30186, 23346, 21535, 24122, 23871, 19935, 28070, 19268,\n",
       "        17216, 17838, 25823, 18859, 19219, 18647, 19358, 25120, 21374,\n",
       "         8928,  8239,  8850,  9451, 10889,  8516,  9207,  6382,  7940,\n",
       "         7375,  6755,  6817,  7033,  9372,  7036,  5773,  7447,  7847,\n",
       "        10091,  7052,  8323,  9314,  6458,  6049,  7976,  8063,  9577,\n",
       "         9803,  9544,  9334,  7599,  8653,  9932,  7702,  9127,  9028,\n",
       "         8060,  6589,  8118,  9055,  8110,  9672,  7049,  7217,  9914,\n",
       "         8158,  7852,  6157,  9474,  9520,  6243,  7116,  7664,  8048,\n",
       "         8761,  7842, 12775,  7910, 10996,  9007, 25876, 15991, 21739,\n",
       "        22118, 18539, 20175, 18406, 14328, 19384, 19330, 23946, 18827,\n",
       "        20248, 28922, 18426, 26270, 21068, 24483, 25453, 16912, 15238,\n",
       "        16056, 17124, 21912, 23402, 24013, 20093, 19347, 23340, 20593,\n",
       "        18063, 23220, 17173, 22886, 25580, 19435, 27950, 18955, 17335,\n",
       "        21227, 22239, 24999, 24121, 20819, 16074, 26457, 22852, 19354,\n",
       "        24050, 18873, 24675, 21521, 24503, 22428, 25122, 14588, 18047,\n",
       "        20310, 21880, 20088, 15236, 12972, 17140, 11939, 14865, 17729,\n",
       "        15593, 13011, 14630, 14902, 13243, 13521, 12649, 16983, 11077,\n",
       "        14818, 17071, 12293, 17568, 17066, 16245, 16479, 13028, 13425,\n",
       "        17717, 15335, 20325, 16169, 13187, 16735, 19420, 15198, 10557,\n",
       "        13778, 19381, 16365, 12873, 14120, 12759,  9643, 14993, 12587,\n",
       "        13071, 20048, 14396, 11382, 17134, 16417, 14812, 13216, 13376,\n",
       "        12407, 12367, 16531, 18953, 13645, 14243, 13815, 15108, 17848,\n",
       "        27189, 29236, 17049, 26374, 17382, 21856, 20208, 19576, 14110,\n",
       "        23400, 19187, 28331, 17714, 23814, 20360, 20015, 18689, 23478,\n",
       "        25120, 20983, 25021, 23413, 20229, 18933, 23403, 19293, 20858,\n",
       "        22884, 20434, 20970, 26678, 16584, 19086, 23655, 16252, 25824,\n",
       "        18729, 21591, 24772, 20208, 17420, 17281, 22566, 27669, 19653,\n",
       "        23919, 17320, 23312, 17590, 25813, 25518, 21840, 22785, 23382,\n",
       "        26671, 22270, 25805, 27475, 18163, 15673,  6380,  5311,  7596,\n",
       "         5298,  6086,  7423,  9747,  6918,  8590,  7616,  5479,  5059,\n",
       "         6354,  6404,  6805,  6232,  9275,  7046,  6033,  6908,  8803,\n",
       "         9051,  6202,  7048,  5249,  8031,  6057,  6479,  7550,  5771,\n",
       "         6589,  5972,  6502,  8987,  5991,  6476,  9138,  7205,  6022,\n",
       "         7993,  7994,  4966,  6162,  6611,  5861,  6350,  9756,  8274,\n",
       "         8173,  7345,  5594,  8538,  6611,  7768,  5978,  5086,  8781,\n",
       "         7308,  6165,  5344, 27668, 22828, 25189, 17789, 24001, 27891,\n",
       "        23675, 25444, 23109, 17934, 19266, 21328, 18427, 19192, 22164,\n",
       "        13925, 14868, 19434, 27316, 16692, 21555, 21401, 17513, 13397,\n",
       "        20717, 17731, 19918, 14727, 17010, 22143, 25224, 24216, 19374,\n",
       "        22299, 17610, 22853, 21365, 20444, 21579, 26134, 21930, 25935,\n",
       "        25168, 23543, 21720, 15714, 17706, 19689, 19968, 18338, 19778,\n",
       "        16600, 21079, 24989, 28530, 21834, 14338, 18635, 24745, 18762,\n",
       "         6743,  8362,  8336,  5970,  6661,  8049,  5935,  7528,  6703,\n",
       "         7302,  8153,  6189,  8662,  6835,  7415,  5563,  4886,  7136,\n",
       "         5083,  8061,  9155,  6475,  6532,  7435,  6295,  7725,  8098,\n",
       "         5885,  6509,  4842]),\n",
       " 'guide': array([ 1,  1,  1,  1,  1,  1,  1,  1,  1,  1,  1,  1,  1,  1,  1,  1,  1,\n",
       "         1,  1,  1,  1,  1,  1,  1,  1,  1,  1,  1,  1,  1,  2,  2,  2,  2,\n",
       "         2,  2,  2,  2,  2,  2,  2,  2,  2,  2,  2,  2,  2,  2,  2,  2,  2,\n",
       "         2,  2,  2,  2,  2,  2,  2,  2,  2,  3,  3,  3,  3,  3,  3,  3,  3,\n",
       "         3,  3,  3,  3,  3,  3,  3,  3,  3,  3,  3,  3,  3,  3,  3,  3,  3,\n",
       "         3,  3,  3,  3,  3,  4,  4,  4,  4,  4,  4,  4,  4,  4,  4,  4,  4,\n",
       "         4,  4,  4,  4,  4,  4,  4,  4,  4,  4,  4,  4,  4,  4,  4,  4,  4,\n",
       "         4,  5,  5,  5,  5,  5,  5,  5,  5,  5,  5,  5,  5,  5,  5,  5,  5,\n",
       "         5,  5,  5,  5,  5,  5,  5,  5,  5,  5,  5,  5,  5,  5,  6,  6,  6,\n",
       "         6,  6,  6,  6,  6,  6,  6,  6,  6,  6,  6,  6,  6,  6,  6,  6,  6,\n",
       "         6,  6,  6,  6,  6,  6,  6,  6,  6,  6,  7,  7,  7,  7,  7,  7,  7,\n",
       "         7,  7,  7,  7,  7,  7,  7,  7,  7,  7,  7,  7,  7,  7,  7,  7,  7,\n",
       "         7,  7,  7,  7,  7,  7,  8,  8,  8,  8,  8,  8,  8,  8,  8,  8,  8,\n",
       "         8,  8,  8,  8,  8,  8,  8,  8,  8,  8,  8,  8,  8,  8,  8,  8,  8,\n",
       "         8,  8,  9,  9,  9,  9,  9,  9,  9,  9,  9,  9,  9,  9,  9,  9,  9,\n",
       "         9,  9,  9,  9,  9,  9,  9,  9,  9,  9,  9,  9,  9,  9,  9, 10, 10,\n",
       "        10, 10, 10, 10, 10, 10, 10, 10, 10, 10, 10, 10, 10, 10, 10, 10, 10,\n",
       "        10, 10, 10, 10, 10, 10, 10, 10, 10, 10, 10, 11, 11, 11, 11, 11, 11,\n",
       "        11, 11, 11, 11, 11, 11, 11, 11, 11, 11, 11, 11, 11, 11, 11, 11, 11,\n",
       "        11, 11, 11, 11, 11, 11, 11, 12, 12, 12, 12, 12, 12, 12, 12, 12, 12,\n",
       "        12, 12, 12, 12, 12, 12, 12, 12, 12, 12, 12, 12, 12, 12, 12, 12, 12,\n",
       "        12, 12, 12, 13, 13, 13, 13, 13, 13, 13, 13, 13, 13, 13, 13, 13, 13,\n",
       "        13, 13, 13, 13, 13, 13, 13, 13, 13, 13, 13, 13, 13, 13, 13, 13, 14,\n",
       "        14, 14, 14, 14, 14, 14, 14, 14, 14, 14, 14, 14, 14, 14, 14, 14, 14,\n",
       "        14, 14, 14, 14, 14, 14, 14, 14, 14, 14, 14, 14, 15, 15, 15, 15, 15,\n",
       "        15, 15, 15, 15, 15, 15, 15, 15, 15, 15, 15, 15, 15, 15, 15, 15, 15,\n",
       "        15, 15, 15, 15, 15, 15, 15, 15, 16, 16, 16, 16, 16, 16, 16, 16, 16,\n",
       "        16, 16, 16, 16, 16, 16, 16, 16, 16, 16, 16, 16, 16, 16, 16, 16, 16,\n",
       "        16, 16, 16, 16, 17, 17, 17, 17, 17, 17, 17, 17, 17, 17, 17, 17, 17,\n",
       "        17, 17, 17, 17, 17, 17, 17, 17, 17, 17, 17, 17, 17, 17, 17, 17, 17,\n",
       "        18, 18, 18, 18, 18, 18, 18, 18, 18, 18, 18, 18, 18, 18, 18, 18, 18,\n",
       "        18, 18, 18, 18, 18, 18, 18, 18, 18, 18, 18, 18, 18, 19, 19, 19, 19,\n",
       "        19, 19, 19, 19, 19, 19, 19, 19, 19, 19, 19, 19, 19, 19, 19, 19, 19,\n",
       "        19, 19, 19, 19, 19, 19, 19, 19, 19, 20, 20, 20, 20, 20, 20, 20, 20,\n",
       "        20, 20, 20, 20, 20, 20, 20, 20, 20, 20, 20, 20, 20, 20, 20, 20, 20,\n",
       "        20, 20, 20, 20, 20, 21, 21, 21, 21, 21, 21, 21, 21, 21, 21, 21, 21,\n",
       "        21, 21, 21, 21, 21, 21, 21, 21, 21, 21, 21, 21, 21, 21, 21, 21, 21,\n",
       "        21, 22, 22, 22, 22, 22, 22, 22, 22, 22, 22, 22, 22, 22, 22, 22, 22,\n",
       "        22, 22, 22, 22, 22, 22, 22, 22, 22, 22, 22, 22, 22, 22, 23, 23, 23,\n",
       "        23, 23, 23, 23, 23, 23, 23, 23, 23, 23, 23, 23, 23, 23, 23, 23, 23,\n",
       "        23, 23, 23, 23, 23, 23, 23, 23, 23, 23, 24, 24, 24, 24, 24, 24, 24,\n",
       "        24, 24, 24, 24, 24, 24, 24, 24, 24, 24, 24, 24, 24, 24, 24, 24, 24,\n",
       "        24, 24, 24, 24, 24, 24, 25, 25, 25, 25, 25, 25, 25, 25, 25, 25, 25,\n",
       "        25, 25, 25, 25, 25, 25, 25, 25, 25, 25, 25, 25, 25, 25, 25, 25, 25,\n",
       "        25, 25]),\n",
       " 'enhancer': array([1, 1, 1, 1, 1, 1, 1, 1, 1, 1, 1, 1, 1, 1, 1, 1, 1, 1, 1, 1, 1, 1,\n",
       "        1, 1, 1, 1, 1, 1, 1, 1, 1, 1, 1, 1, 1, 1, 1, 1, 1, 1, 1, 1, 1, 1,\n",
       "        1, 1, 1, 1, 1, 1, 1, 1, 1, 1, 1, 1, 1, 1, 1, 1, 1, 1, 1, 1, 1, 1,\n",
       "        1, 1, 1, 1, 1, 1, 1, 1, 1, 1, 1, 1, 1, 1, 1, 1, 1, 1, 1, 1, 1, 1,\n",
       "        1, 1, 1, 1, 1, 1, 1, 1, 1, 1, 1, 1, 1, 1, 1, 1, 1, 1, 1, 1, 1, 1,\n",
       "        1, 1, 1, 1, 1, 1, 1, 1, 1, 1, 1, 1, 1, 1, 1, 1, 1, 1, 1, 1, 1, 1,\n",
       "        1, 1, 1, 1, 1, 1, 1, 1, 1, 1, 1, 1, 1, 1, 1, 1, 1, 1, 2, 2, 2, 2,\n",
       "        2, 2, 2, 2, 2, 2, 2, 2, 2, 2, 2, 2, 2, 2, 2, 2, 2, 2, 2, 2, 2, 2,\n",
       "        2, 2, 2, 2, 2, 2, 2, 2, 2, 2, 2, 2, 2, 2, 2, 2, 2, 2, 2, 2, 2, 2,\n",
       "        2, 2, 2, 2, 2, 2, 2, 2, 2, 2, 2, 2, 2, 2, 2, 2, 2, 2, 2, 2, 2, 2,\n",
       "        2, 2, 2, 2, 2, 2, 2, 2, 2, 2, 2, 2, 2, 2, 2, 2, 2, 2, 2, 2, 2, 2,\n",
       "        2, 2, 2, 2, 2, 2, 2, 2, 2, 2, 2, 2, 2, 2, 2, 2, 2, 2, 2, 2, 2, 2,\n",
       "        2, 2, 2, 2, 2, 2, 2, 2, 2, 2, 2, 2, 2, 2, 2, 2, 2, 2, 2, 2, 2, 2,\n",
       "        2, 2, 2, 2, 2, 2, 2, 2, 2, 2, 2, 2, 2, 2, 3, 3, 3, 3, 3, 3, 3, 3,\n",
       "        3, 3, 3, 3, 3, 3, 3, 3, 3, 3, 3, 3, 3, 3, 3, 3, 3, 3, 3, 3, 3, 3,\n",
       "        3, 3, 3, 3, 3, 3, 3, 3, 3, 3, 3, 3, 3, 3, 3, 3, 3, 3, 3, 3, 3, 3,\n",
       "        3, 3, 3, 3, 3, 3, 3, 3, 3, 3, 3, 3, 3, 3, 3, 3, 3, 3, 3, 3, 3, 3,\n",
       "        3, 3, 3, 3, 3, 3, 3, 3, 3, 3, 3, 3, 3, 3, 3, 3, 3, 3, 3, 3, 3, 3,\n",
       "        3, 3, 3, 3, 3, 3, 3, 3, 3, 3, 3, 3, 3, 3, 3, 3, 3, 3, 3, 3, 3, 3,\n",
       "        3, 3, 3, 3, 3, 3, 3, 3, 3, 3, 3, 3, 3, 3, 3, 3, 3, 3, 3, 3, 3, 3,\n",
       "        3, 3, 3, 3, 3, 3, 3, 3, 3, 3, 4, 4, 4, 4, 4, 4, 4, 4, 4, 4, 4, 4,\n",
       "        4, 4, 4, 4, 4, 4, 4, 4, 4, 4, 4, 4, 4, 4, 4, 4, 4, 4, 4, 4, 4, 4,\n",
       "        4, 4, 4, 4, 4, 4, 4, 4, 4, 4, 4, 4, 4, 4, 4, 4, 4, 4, 4, 4, 4, 4,\n",
       "        4, 4, 4, 4, 4, 4, 4, 4, 4, 4, 4, 4, 4, 4, 4, 4, 4, 4, 4, 4, 4, 4,\n",
       "        4, 4, 4, 4, 4, 4, 4, 4, 4, 4, 4, 4, 4, 4, 4, 4, 4, 4, 4, 4, 4, 4,\n",
       "        4, 4, 4, 4, 4, 4, 4, 4, 4, 4, 4, 4, 4, 4, 4, 4, 4, 4, 4, 4, 4, 4,\n",
       "        4, 4, 4, 4, 4, 4, 4, 4, 4, 4, 4, 4, 4, 4, 4, 4, 4, 4, 4, 4, 4, 4,\n",
       "        4, 4, 4, 4, 4, 4, 5, 5, 5, 5, 5, 5, 5, 5, 5, 5, 5, 5, 5, 5, 5, 5,\n",
       "        5, 5, 5, 5, 5, 5, 5, 5, 5, 5, 5, 5, 5, 5, 5, 5, 5, 5, 5, 5, 5, 5,\n",
       "        5, 5, 5, 5, 5, 5, 5, 5, 5, 5, 5, 5, 5, 5, 5, 5, 5, 5, 5, 5, 5, 5,\n",
       "        5, 5, 5, 5, 5, 5, 5, 5, 5, 5, 5, 5, 5, 5, 5, 5, 5, 5, 5, 5, 5, 5,\n",
       "        5, 5, 5, 5, 5, 5, 5, 5, 5, 5, 5, 5, 5, 5, 5, 5, 5, 5, 5, 5, 5, 5,\n",
       "        5, 5, 5, 5, 5, 5, 5, 5, 5, 5, 5, 5, 5, 5, 5, 5, 5, 5, 5, 5, 5, 5,\n",
       "        5, 5, 5, 5, 5, 5, 5, 5, 5, 5, 5, 5, 5, 5, 5, 5, 5, 5, 5, 5, 5, 5,\n",
       "        5, 5])}"
      ]
     },
     "execution_count": 17,
     "metadata": {},
     "output_type": "execute_result"
    }
   ],
   "source": [
    "import pandas as pd\n",
    "\n",
    "# Load the dataset\n",
    "final_data = pd.read_csv(\"final/data1.tsv\", sep='\\t')\n",
    "\n",
    "# Define the gene and enhancer IDs\n",
    "geneID, enhancerID = 1, 2\n",
    "\n",
    "# Filter the data for the specified gene\n",
    "data_subset = final_data[final_data.geneID == geneID]\n",
    "\n",
    "# Control samples\n",
    "control_samples = data_subset[data_subset.enhancerID == -1]\n",
    "N_control = control_samples.shape[0]\n",
    "\n",
    "# Experimental samples for the specified enhancer\n",
    "experiment_samples = data_subset[data_subset.enhancerID != -1]\n",
    "N_experiment = experiment_samples.shape[0]\n",
    "\n",
    "# Get the expression levels for control and experimental samples\n",
    "y_control = control_samples.expression.values\n",
    "y_experiment = experiment_samples.expression.values\n",
    "\n",
    "# Map guides to indices and adjust for 1-based indexing in STAN\n",
    "guide = experiment_samples.guideID.values\n",
    "guide = guide - min(guide) + 1  # Adjusting guide indices\n",
    "\n",
    "# Map enhancers to indices and adjust for 1-based indexing in STAN\n",
    "enhancer = experiment_samples.enhancerID.values\n",
    "enhancer = enhancer - min(enhancer) + 1  # Adjusting enhancer indices\n",
    "\n",
    "# Define the total number of enhancers and guides\n",
    "N_enhancers = len(data_subset.enhancerID.unique()) - 1\n",
    "N_guides = len(data_subset.guideID.unique()) - 1\n",
    "\n",
    "# Prepare data for CMDSTANPY\n",
    "data = {\n",
    "    'N_control': N_control,\n",
    "    'N_experiment': N_experiment,\n",
    "    'N_enhancers': N_enhancers,\n",
    "    'N_guides': N_guides,\n",
    "    'y_control': y_control,\n",
    "    'y_experiment': y_experiment,\n",
    "    'guide': guide,\n",
    "    'enhancer': enhancer\n",
    "}\n",
    "\n",
    "data"
   ]
  },
  {
   "cell_type": "code",
   "execution_count": 18,
   "metadata": {},
   "outputs": [
    {
     "name": "stdout",
     "output_type": "stream",
     "text": [
      "=====Truth=====\n",
      "GeneID: 1\n",
      "Y_control expression: 22110.57 4080.39\n",
      "Y_experiment expression: 17400.65 6320.54\n",
      "Naive GeneID Beta Estimator: 0.787\n",
      "Sophisticated Beta Estimator:\n",
      "\tβ EnhancerID 1: 0.84\n",
      "\tβ EnhancerID 2: 0.59\n",
      "\tβ EnhancerID 3: 0.38\n",
      "\tβ EnhancerID 4: 0.67\n",
      "\tβ EnhancerID 5: 0.31\n"
     ]
    }
   ],
   "source": [
    "print(\"=====Truth=====\")\n",
    "\n",
    "print('GeneID:',geneID)\n",
    "print('Y_control expression:',round(y_control.mean(),2),round(y_control.std(),2))\n",
    "print('Y_experiment expression:',round(y_experiment.mean(),2),round(y_experiment.std(),2))\n",
    "print('Naive GeneID Beta Estimator:',round(y_experiment.mean()/y_control.mean(),4))\n",
    "\n",
    "enhancer_guide_agg = data_subset.groupby(['enhancerID','guideID']).agg({'cellID':'count','expression':'mean'})\n",
    "enhancer_guide_agg['Beta_Guide'] = enhancer_guide_agg['expression'].apply(lambda x: x / y_control.mean())\n",
    "enhancer_guide_agg['Guide_Function_Prediction'] = enhancer_guide_agg['Beta_Guide'].apply(lambda x: 'Functional Guide [1]' if x < .92 else 'Non-Functional Guide [0]')\n",
    "\n",
    "enhancer_grouped = enhancer_guide_agg.groupby('enhancerID').agg(list)\n",
    "\n",
    "print('Sophisticated Beta Estimator:')\n",
    "for ix,i in enhancer_grouped.iterrows():\n",
    "    functional_guide_betas = [guide for status,guide in list(zip(i.Guide_Function_Prediction,i.Beta_Guide)) if not 'Non' in status]\n",
    "    if ix > 0:\n",
    "        print('\\t\\u03B2 EnhancerID %s:'%(ix),round(np.mean(functional_guide_betas),2))\n",
    "\n"
   ]
  },
  {
   "cell_type": "code",
   "execution_count": null,
   "metadata": {},
   "outputs": [
    {
     "name": "stderr",
     "output_type": "stream",
     "text": [
      "17:36:59 - cmdstanpy - INFO - CmdStan start processing\n"
     ]
    },
    {
     "data": {
      "application/vnd.jupyter.widget-view+json": {
       "model_id": "cce8712e488c47b9bd2e1aaf209a2dc5",
       "version_major": 2,
       "version_minor": 0
      },
      "text/plain": [
       "chain 1 |          | 00:00 Status"
      ]
     },
     "metadata": {},
     "output_type": "display_data"
    },
    {
     "data": {
      "application/vnd.jupyter.widget-view+json": {
       "model_id": "d91d5d183e9f40bf9b4b65b3fca051f8",
       "version_major": 2,
       "version_minor": 0
      },
      "text/plain": [
       "chain 2 |          | 00:00 Status"
      ]
     },
     "metadata": {},
     "output_type": "display_data"
    },
    {
     "data": {
      "application/vnd.jupyter.widget-view+json": {
       "model_id": "48008262acbe48d08ffb8847cf3d909e",
       "version_major": 2,
       "version_minor": 0
      },
      "text/plain": [
       "chain 3 |          | 00:00 Status"
      ]
     },
     "metadata": {},
     "output_type": "display_data"
    },
    {
     "data": {
      "application/vnd.jupyter.widget-view+json": {
       "model_id": "f90cadaca3634dc5be358b5f17c12a74",
       "version_major": 2,
       "version_minor": 0
      },
      "text/plain": [
       "chain 4 |          | 00:00 Status"
      ]
     },
     "metadata": {},
     "output_type": "display_data"
    }
   ],
   "source": [
    "model_fit = model.sample(data=data,thin=1,iter_sampling=1500,iter_warmup=50,seed=11051999,max_treedepth=100)\n"
   ]
  },
  {
   "cell_type": "code",
   "execution_count": 344,
   "metadata": {},
   "outputs": [
    {
     "name": "stdout",
     "output_type": "stream",
     "text": [
      "Processing csv files: /var/folders/pm/gdtrt3dn5l19fhm45t9qtmdh0000gn/T/tmp0d_q4uwa/model4_pooled8o4wzvtx/model4_pooled-20241109160624_1.csv, /var/folders/pm/gdtrt3dn5l19fhm45t9qtmdh0000gn/T/tmp0d_q4uwa/model4_pooled8o4wzvtx/model4_pooled-20241109160624_2.csv, /var/folders/pm/gdtrt3dn5l19fhm45t9qtmdh0000gn/T/tmp0d_q4uwa/model4_pooled8o4wzvtx/model4_pooled-20241109160624_3.csv, /var/folders/pm/gdtrt3dn5l19fhm45t9qtmdh0000gn/T/tmp0d_q4uwa/model4_pooled8o4wzvtx/model4_pooled-20241109160624_4.csv\n",
      "\n",
      "Checking sampler transitions treedepth.\n",
      "Treedepth satisfactory for all transitions.\n",
      "\n",
      "Checking sampler transitions for divergences.\n",
      "No divergent transitions found.\n",
      "\n",
      "Checking E-BFMI - sampler transitions HMC potential energy.\n",
      "E-BFMI satisfactory.\n",
      "\n",
      "Effective sample size satisfactory.\n",
      "\n",
      "Split R-hat values satisfactory all parameters.\n",
      "\n",
      "Processing complete, no problems detected.\n",
      "\n"
     ]
    }
   ],
   "source": [
    "print(model_fit.diagnose())"
   ]
  },
  {
   "cell_type": "code",
   "execution_count": null,
   "metadata": {},
   "outputs": [
    {
     "name": "stdout",
     "output_type": "stream",
     "text": [
      "=====Posterior Mean for Gene-Enhancer Betas=====\n"
     ]
    },
    {
     "data": {
      "text/plain": [
       "{('B[1]', 0.784836),\n",
       " ('B[2]', 0.442248),\n",
       " ('B[3]', 0.285432),\n",
       " ('B[4]', 0.582298),\n",
       " ('B[5]', 0.255602),\n",
       " ('B[6]', 0.462382)}"
      ]
     },
     "execution_count": 412,
     "metadata": {},
     "output_type": "execute_result"
    }
   ],
   "source": [
    "model_fit_mean = model_fit.summary().Mean.to_dict()\n",
    "\n",
    "# print(\"=====Posterior Mean for Gene-Enhancer Betas=====\") \n",
    "\n",
    "# # Initialize the nested dictionary\n",
    "# nested_dict = {}\n",
    "\n",
    "# # Iterate through the median_values dictionary\n",
    "# for key, value in posterior_mean.items():\n",
    "#     if '[' in key and ']' in key:\n",
    "#         # Split the key to get the outer and inner keys\n",
    "#         outer_key, inner_key = key.split('[')\n",
    "#         inner_key = inner_key.rstrip(']')  # Remove the closing bracket\n",
    "        \n",
    "#         # Ensure the outer key exists in the nested dictionary\n",
    "#         if outer_key not in nested_dict:\n",
    "#             nested_dict[outer_key] = {}\n",
    "        \n",
    "#         # Assign the value to the appropriate place in the nested dictionary\n",
    "#         nested_dict[outer_key][int(inner_key)] = value\n",
    "#     else:\n",
    "#         # If the key does not have an index, add it directly to the nested dictionary\n",
    "#         nested_dict[key] = value\n",
    "\n",
    "# posterior_mean = nested_dict\n",
    "\n",
    "# { i for i in model_fit_mean.items() if 'B' in i[0]}\n"
   ]
  },
  {
   "cell_type": "code",
   "execution_count": 416,
   "metadata": {},
   "outputs": [
    {
     "name": "stdout",
     "output_type": "stream",
     "text": [
      "=====Posterior Mean for Gene-Enhancer Betas=====\n",
      "{'B[1]': 0.7848355505883334, 'B[2]': 0.4422481312035267, 'B[3]': 0.28543200221992165, 'B[4]': 0.5822980471946166, 'B[5]': 0.2556017814821834, 'B[6]': 0.46238169288473274}\n",
      "=====Posterior Median for Gene-Enhancer Betas=====\n",
      "{'B[1]': 0.8094224999999999, 'B[2]': 0.5206105000000001, 'B[3]': 0.3327345, 'B[4]': 0.6392085000000001, 'B[5]': 0.284158, 'B[6]': 0.42173550000000004}\n",
      "=====Posterior Mode for Gene-Enhancer Betas=====\n",
      "{'B[1]': 0.796607, 'B[2]': 0.562009, 'B[3]': 0.20731, 'B[4]': 0.659516, 'B[5]': 0.279763, 'B[6]': 0.833153}\n"
     ]
    }
   ],
   "source": [
    "draws = model_fit.draws_pd()\n",
    "print(\"=====Posterior Mean for Gene-Enhancer Betas=====\") \n",
    "posterior_mean = draws[[i for i in draws.columns if 'B' in i]].apply('mean').squeeze().to_dict()\n",
    "print(posterior_mean)\n",
    "print(\"=====Posterior Median for Gene-Enhancer Betas=====\") \n",
    "posterior_median = draws[[i for i in draws.columns if 'B' in i]].apply('median').squeeze().to_dict()\n",
    "print(posterior_median)\n",
    "print(\"=====Posterior Mode for Gene-Enhancer Betas=====\") \n",
    "posterior_mode = draws[[i for i in draws.columns if 'B' in i]].apply('mode').squeeze().to_dict()\n",
    "print(posterior_mode)"
   ]
  },
  {
   "cell_type": "code",
   "execution_count": 4,
   "metadata": {},
   "outputs": [
    {
     "name": "stdout",
     "output_type": "stream",
     "text": [
      "=====True Gene-Enhancer Betas=====\n",
      "EnhancerID 1: 0.88\n",
      "EnhancerID 2: 0.59\n",
      "EnhancerID 3: 0.39\n",
      "EnhancerID 4: 0.7\n",
      "EnhancerID 5: 0.32\n"
     ]
    }
   ],
   "source": [
    "true_betas = [0.88, 0.59, 0.39, 0.7, 0.32]\n",
    "\n",
    "print(\"=====True Gene-Enhancer Betas=====\")\n",
    "for i in enumerate(true_betas):\n",
    "    print('EnhancerID %s:'%(i[0]+1),i[1])\n"
   ]
  },
  {
   "cell_type": "code",
   "execution_count": 12,
   "metadata": {},
   "outputs": [
    {
     "data": {
      "text/plain": [
       "1000"
      ]
     },
     "execution_count": 12,
     "metadata": {},
     "output_type": "execute_result"
    }
   ],
   "source": [
    "final_data.geneID.nunique()\n"
   ]
  }
 ],
 "metadata": {
  "kernelspec": {
   "display_name": "graphical-models",
   "language": "python",
   "name": "python3"
  },
  "language_info": {
   "codemirror_mode": {
    "name": "ipython",
    "version": 3
   },
   "file_extension": ".py",
   "mimetype": "text/x-python",
   "name": "python",
   "nbconvert_exporter": "python",
   "pygments_lexer": "ipython3",
   "version": "3.9.20"
  }
 },
 "nbformat": 4,
 "nbformat_minor": 2
}
