{
 "cells": [
  {
   "cell_type": "markdown",
   "metadata": {},
   "source": [
    "# Massaging Gaussian Mixture Model \n",
    "\n",
    "jtm98 \n",
    "Created: 10.29.24\n",
    "\n",
    "$$ X_i \\sim r N (\\mu,\\sigma^2) + (1-r) N (\\beta*\\mu,\\sigma^2) $$\n",
    "\n",
    "- $X_i$ is cell expression \n",
    "- $r$ is a mixture proportion of label $Z_i$\n",
    "- $Z_i \\in {0,1} $ and represents whether a cell had normal (0) or decreased (1)  expression \n",
    "- $\\mu$ is the mean of individuals w/normal expression\n",
    "- $\\beta$ is the enhancer coefficient \n"
   ]
  },
  {
   "cell_type": "code",
   "execution_count": 3,
   "metadata": {},
   "outputs": [],
   "source": [
    "import os\n",
    "import numpy as np \n",
    "from cmdstanpy import cmdstan_path, CmdStanModel"
   ]
  },
  {
   "cell_type": "code",
   "execution_count": null,
   "metadata": {},
   "outputs": [],
   "source": [
    "mixture =\"\"\"\n",
    "\n",
    "// Assessing if beta parameter is inferable \n",
    "data {\n",
    "int<lower=1> N; // number of samples\n",
    "array[N] real X; // expression in the sample \n",
    "}\n",
    "\n",
    "parameters {\n",
    "real<lower=0,upper=1> r; // mixture proportion of samples \n",
    "real<lower=0.0> sigma; // standard deviation \n",
    "real mu; // mean of individuals w/ normal expression\n",
    "real beta; // enhancer coefficient\n",
    "}\n",
    "\n",
    "model {\n",
    "r ~ beta(2,2); // mixture proportion based on natural scale \n",
    "mu ~ normal(0,10); \n",
    "beta ~ beta(2,2); // enhancer coefificent should be [0,1]\n",
    "sigma ~ inv_gamma(1,1); \n",
    "for(i in 1:N)\n",
    "target+= log_sum_exp(log(r)+normal_lpdf(X[i]|mu,sigma),\n",
    "log(1-r)+normal_lpdf(X[i]|beta*mu,sigma));\n",
    "}\n",
    "\n",
    "generated quantities {\n",
    "array[N] real<lower=0,upper=1> PZi;\n",
    "for(i in 1:N) {\n",
    "real LP0=log(r)+normal_lpdf(X[i]|mu,sigma);\n",
    "real LP1=log(1-r)+normal_lpdf(X[i]|beta*mu,sigma);\n",
    "PZi[i]=exp(LP0-log_sum_exp(LP0,LP1));\n",
    "}\n",
    "}\n",
    "\"\"\"\n",
    "! mkdir mixture\n",
    "with open('mixture/mixture.stan', 'w') as f: f.write(mixture) \n",
    "! cat mixture/mixture.stan"
   ]
  },
  {
   "cell_type": "code",
   "execution_count": 3,
   "metadata": {},
   "outputs": [
    {
     "name": "stderr",
     "output_type": "stream",
     "text": [
      "21:55:57 - cmdstanpy - INFO - compiling stan file /Users/jasonmohabir/Documents/Duke/Courses/GraphicalModels/final_project/mixture/mixture.stan to exe file /Users/jasonmohabir/Documents/Duke/Courses/GraphicalModels/final_project/mixture/mixture\n",
      "21:56:06 - cmdstanpy - INFO - compiled model executable: /Users/jasonmohabir/Documents/Duke/Courses/GraphicalModels/final_project/mixture/mixture\n"
     ]
    }
   ],
   "source": [
    "mixture = CmdStanModel(stan_file='mixture/mixture.stan')"
   ]
  },
  {
   "cell_type": "code",
   "execution_count": 5,
   "metadata": {},
   "outputs": [],
   "source": [
    "\n",
    "pos_expression = 100\n",
    "neg_expression = 90 \n",
    "true_beta = neg_expression / pos_expression # true beta value\n",
    "\n",
    "# Simulate random data \n",
    "pos = np.random.normal(100,0.3,50)\n",
    "neg = np.random.normal(90,0.3,50)\n",
    "data = {'X' : np.concatenate([pos,neg]), 'N' : 100}\n",
    "inits = { 'mu': 1, 'sigma': 0.3, 'r': 0.5, 'beta': .5 }"
   ]
  },
  {
   "cell_type": "code",
   "execution_count": null,
   "metadata": {},
   "outputs": [],
   "source": [
    "mixture_fit = mixture.sample(data=data,thin=1,iter_sampling=1000,iter_warmup=50,inits=inits,seed=11051999)\n",
    "mixture_fit.summary()['Mean']"
   ]
  },
  {
   "cell_type": "code",
   "execution_count": 8,
   "metadata": {},
   "outputs": [
    {
     "name": "stdout",
     "output_type": "stream",
     "text": [
      "Estimated Beta: 0.709097\n",
      "True Beta: 0.9\n"
     ]
    }
   ],
   "source": [
    "estimated_beta = mixture_fit.summary().loc['beta']['Mean']\n",
    "print('Estimated Beta:',estimated_beta)\n",
    "print('True Beta:',true_beta)"
   ]
  },
  {
   "cell_type": "markdown",
   "metadata": {},
   "source": [
    "# Hierarchical Gaussian Mixture Model with Latent Potency"
   ]
  },
  {
   "cell_type": "code",
   "execution_count": null,
   "metadata": {},
   "outputs": [
    {
     "name": "stdout",
     "output_type": "stream",
     "text": [
      "mkdir: model2: File exists\n",
      "\n",
      "data {\n",
      "  int<lower=0> N_control;                  // Number of control samples\n",
      "  int<lower=0> N_experiment;               // Number of experimental samples\n",
      "  array[N_control] real y_control;         // Expression levels in control samples\n",
      "  array[N_experiment] real y_experiment;   // Expression levels in experimental samples\n",
      "  array[N_experiment] int<lower=1, upper=5> guide; // Guide index for each experiment sample (1 to 5)\n",
      "}\n",
      "\n",
      "transformed data {\n",
      "  real<lower=0> mu_control_observed = mean(y_control);            // Empirical mean of y_control\n",
      "  real<lower=0> sigma_control_observed = sd(y_control);           // Empirical standard deviation of y_control\n",
      "  real<lower=0> mu_experiment_observed = mean(y_experiment);      // Empirical mean of y_experiment\n",
      "  real<lower=0> sigma_experiment_observed = sd(y_experiment);     // Empirical standard deviation of y_experiment\n",
      "  real<lower=0> beta_observed = mu_experiment_observed / mu_control_observed ;   // Empirical effect size \n",
      "}\n",
      "\n",
      "parameters {\n",
      "  real<lower=0> mu_control;                // Mean expression in control condition\n",
      "  real<lower=0, upper=1> B;                // Effect size for potent guides\n",
      "  real<lower=0> sigma_control;             // Standard deviation in control condition\n",
      "  real<lower=0> sigma_experiment;          // Standard deviation in experiment condition\n",
      "  array[5] real<lower=0, upper=1> potency; // Potency for each guide (0 to 1)\n",
      "}\n",
      "\n",
      "transformed parameters {\n",
      "  real mu_experiment;                      // Single mu_experiment for all experimental samples\n",
      "  \n",
      "  // Mean expression in potent experimental samples\n",
      "  mu_experiment = B * mu_control;\n",
      "}\n",
      "\n",
      "model {\n",
      "  // Priors based on provided initial values\n",
      "  mu_control ~ normal(mu_control_observed, sigma_control_observed);        // Prior for control mean centered around 22,000\n",
      "  B ~ normal(beta_observed, 0.25);                          // Prior for effect size B around 0.5\n",
      "  sigma_control ~ cauchy(sigma_control_observed, 2);      // Prior for control standard deviation centered around 4,000\n",
      "  sigma_experiment ~ cauchy(sigma_experiment_observed, 2);   // Prior for experimental standard deviation centered around 3,700\n",
      "  potency ~ beta(0.5, 0.5);                    // Prior for potency of each guide, allowing flexibility\n",
      "\n",
      "  // Likelihoods\n",
      "  y_control ~ normal(mu_control, sigma_control); // Control samples from control distribution\n",
      "\n",
      "  // Experimental samples based on guide potency\n",
      "  for (n in 1:N_experiment) {\n",
      "    real mean_expr = (1 - potency[guide[n]]) * mu_control + potency[guide[n]] * mu_experiment;\n",
      "    y_experiment[n] ~ normal(mean_expr, sigma_experiment);\n",
      "  }\n",
      "}\n"
     ]
    }
   ],
   "source": [
    "stan_code =\"\"\"\n",
    "data {\n",
    "  int<lower=0> N_control;                  // Number of control samples\n",
    "  int<lower=0> N_experiment;               // Number of experimental samples\n",
    "  array[N_control] real y_control;         // Expression levels in control samples\n",
    "  array[N_experiment] real y_experiment;   // Expression levels in experimental samples\n",
    "  array[N_experiment] int<lower=1, upper=5> guide; // Guide index for each experiment sample (1 to 5)\n",
    "  array[N_experiment] real enhancer;       // Enhancer index for each experiment sample\n",
    "}\n",
    "\n",
    "transformed data {\n",
    "  real<lower=0> mu_control_observed = mean(y_control);            // Empirical mean of y_control\n",
    "  real<lower=0> sigma_control_observed = sd(y_control);           // Empirical standard deviation of y_control\n",
    "  real<lower=0> mu_experiment_observed = mean(y_experiment);      // Empirical mean of y_experiment\n",
    "  real<lower=0> sigma_experiment_observed = sd(y_experiment);     // Empirical standard deviation of y_experiment\n",
    "  real<lower=0> beta_observed = mu_experiment_observed / mu_control_observed ;   // Empirical effect size \n",
    "}\n",
    "\n",
    "parameters {\n",
    "  real<lower=0> mu_control;                // Mean expression in control condition\n",
    "  real<lower=0, upper=1> B;                // Effect size for potent guides\n",
    "  real<lower=0> sigma_control;             // Standard deviation in control condition\n",
    "  real<lower=0> sigma_experiment;          // Standard deviation in experiment condition\n",
    "  array[5] real<lower=0, upper=1> potency; // Potency for each guide (0 to 1)\n",
    "}\n",
    "\n",
    "transformed parameters {\n",
    "  real mu_experiment;                      // Single mu_experiment for all experimental samples\n",
    "  \n",
    "  // Mean expression in potent experimental samples\n",
    "  mu_experiment = B * mu_control;\n",
    "}\n",
    "\n",
    "model {\n",
    "  // Priors based on provided initial values\n",
    "  mu_control ~ normal(mu_control_observed, sigma_control_observed);        // Prior for control mean centered around 22,000\n",
    "  B ~ normal(beta_observed, 0.25);                          // Prior for effect size B around 0.5\n",
    "  sigma_control ~ cauchy(sigma_control_observed, 2);      // Prior for control standard deviation centered around 4,000\n",
    "  sigma_experiment ~ cauchy(sigma_experiment_observed, 2);   // Prior for experimental standard deviation centered around 3,700\n",
    "  potency ~ beta(0.5, 0.5);                    // Prior for potency of each guide, allowing flexibility\n",
    "\n",
    "  // Likelihoods\n",
    "  y_control ~ normal(mu_control, sigma_control); // Control samples from control distribution\n",
    "\n",
    "  // Experimental samples based on guide potency\n",
    "  for (n in 1:N_experiment) {\n",
    "    real mean_expr = (1 - potency[guide[n]]) * mu_control + potency[guide[n]] * mu_experiment;\n",
    "    y_experiment[n] ~ normal(mean_expr, sigma_experiment);\n",
    "  }\n",
    "}\n",
    "\"\"\"\n",
    "name = 'model2'\n",
    "! mkdir {name}\n",
    "with open('%s/%s.stan'%(name,name), 'w') as f: f.write(stan_code) \n",
    "! cat {name}/{name}.stan"
   ]
  },
  {
   "cell_type": "code",
   "execution_count": 109,
   "metadata": {},
   "outputs": [
    {
     "name": "stderr",
     "output_type": "stream",
     "text": [
      "23:16:13 - cmdstanpy - INFO - compiling stan file /Users/jasonmohabir/Documents/Duke/Courses/GraphicalModels/final_project/model2/model2.stan to exe file /Users/jasonmohabir/Documents/Duke/Courses/GraphicalModels/final_project/model2/model2\n",
      "23:16:23 - cmdstanpy - INFO - compiled model executable: /Users/jasonmohabir/Documents/Duke/Courses/GraphicalModels/final_project/model2/model2\n"
     ]
    }
   ],
   "source": [
    "model = CmdStanModel(stan_file='%s/%s.stan'%(name,name))"
   ]
  },
  {
   "cell_type": "code",
   "execution_count": 110,
   "metadata": {},
   "outputs": [],
   "source": [
    "import pandas as pd \n",
    "\n",
    "final_data = pd.read_csv(\"final/data1.tsv\",sep='\\t')\n",
    "geneID, enhancerID = 1,1\n",
    "data_subset = final_data[final_data.geneID == geneID]\n",
    "\n",
    "control_samples = data_subset[data_subset.enhancerID == -1 ]\n",
    "N_control = control_samples.shape[0]\n",
    "\n",
    "# Calculating gene-enhancer B_{gene=1,enhancer=1}\n",
    "experiment_samples = data_subset[data_subset.enhancerID == enhancerID]\n",
    "N_experiment = experiment_samples.shape[0]\n",
    "\n",
    "y_control = control_samples.expression.values\n",
    "y_experiment = experiment_samples.expression.values\n",
    "guide = experiment_samples.guideID.values\n",
    "guide = guide - min(guide) + 1"
   ]
  },
  {
   "cell_type": "code",
   "execution_count": 118,
   "metadata": {},
   "outputs": [
    {
     "data": {
      "text/html": [
       "<div>\n",
       "<style scoped>\n",
       "    .dataframe tbody tr th:only-of-type {\n",
       "        vertical-align: middle;\n",
       "    }\n",
       "\n",
       "    .dataframe tbody tr th {\n",
       "        vertical-align: top;\n",
       "    }\n",
       "\n",
       "    .dataframe thead th {\n",
       "        text-align: right;\n",
       "    }\n",
       "</style>\n",
       "<table border=\"1\" class=\"dataframe\">\n",
       "  <thead>\n",
       "    <tr style=\"text-align: right;\">\n",
       "      <th></th>\n",
       "      <th>geneID</th>\n",
       "      <th>enhancerID</th>\n",
       "      <th>guideID</th>\n",
       "      <th>cellID</th>\n",
       "      <th>expression</th>\n",
       "    </tr>\n",
       "  </thead>\n",
       "  <tbody>\n",
       "    <tr>\n",
       "      <th>0</th>\n",
       "      <td>1</td>\n",
       "      <td>-1</td>\n",
       "      <td>-1</td>\n",
       "      <td>1</td>\n",
       "      <td>25763</td>\n",
       "    </tr>\n",
       "    <tr>\n",
       "      <th>1</th>\n",
       "      <td>1</td>\n",
       "      <td>-1</td>\n",
       "      <td>-1</td>\n",
       "      <td>2</td>\n",
       "      <td>19388</td>\n",
       "    </tr>\n",
       "    <tr>\n",
       "      <th>2</th>\n",
       "      <td>1</td>\n",
       "      <td>-1</td>\n",
       "      <td>-1</td>\n",
       "      <td>3</td>\n",
       "      <td>17405</td>\n",
       "    </tr>\n",
       "    <tr>\n",
       "      <th>3</th>\n",
       "      <td>1</td>\n",
       "      <td>-1</td>\n",
       "      <td>-1</td>\n",
       "      <td>4</td>\n",
       "      <td>29517</td>\n",
       "    </tr>\n",
       "    <tr>\n",
       "      <th>4</th>\n",
       "      <td>1</td>\n",
       "      <td>-1</td>\n",
       "      <td>-1</td>\n",
       "      <td>5</td>\n",
       "      <td>17733</td>\n",
       "    </tr>\n",
       "    <tr>\n",
       "      <th>...</th>\n",
       "      <td>...</td>\n",
       "      <td>...</td>\n",
       "      <td>...</td>\n",
       "      <td>...</td>\n",
       "      <td>...</td>\n",
       "    </tr>\n",
       "    <tr>\n",
       "      <th>775</th>\n",
       "      <td>1</td>\n",
       "      <td>5</td>\n",
       "      <td>25</td>\n",
       "      <td>776</td>\n",
       "      <td>7725</td>\n",
       "    </tr>\n",
       "    <tr>\n",
       "      <th>776</th>\n",
       "      <td>1</td>\n",
       "      <td>5</td>\n",
       "      <td>25</td>\n",
       "      <td>777</td>\n",
       "      <td>8098</td>\n",
       "    </tr>\n",
       "    <tr>\n",
       "      <th>777</th>\n",
       "      <td>1</td>\n",
       "      <td>5</td>\n",
       "      <td>25</td>\n",
       "      <td>778</td>\n",
       "      <td>5885</td>\n",
       "    </tr>\n",
       "    <tr>\n",
       "      <th>778</th>\n",
       "      <td>1</td>\n",
       "      <td>5</td>\n",
       "      <td>25</td>\n",
       "      <td>779</td>\n",
       "      <td>6509</td>\n",
       "    </tr>\n",
       "    <tr>\n",
       "      <th>779</th>\n",
       "      <td>1</td>\n",
       "      <td>5</td>\n",
       "      <td>25</td>\n",
       "      <td>780</td>\n",
       "      <td>4842</td>\n",
       "    </tr>\n",
       "  </tbody>\n",
       "</table>\n",
       "<p>780 rows × 5 columns</p>\n",
       "</div>"
      ],
      "text/plain": [
       "     geneID  enhancerID  guideID  cellID  expression\n",
       "0         1          -1       -1       1       25763\n",
       "1         1          -1       -1       2       19388\n",
       "2         1          -1       -1       3       17405\n",
       "3         1          -1       -1       4       29517\n",
       "4         1          -1       -1       5       17733\n",
       "..      ...         ...      ...     ...         ...\n",
       "775       1           5       25     776        7725\n",
       "776       1           5       25     777        8098\n",
       "777       1           5       25     778        5885\n",
       "778       1           5       25     779        6509\n",
       "779       1           5       25     780        4842\n",
       "\n",
       "[780 rows x 5 columns]"
      ]
     },
     "execution_count": 118,
     "metadata": {},
     "output_type": "execute_result"
    }
   ],
   "source": [
    "data_subset"
   ]
  },
  {
   "cell_type": "code",
   "execution_count": 115,
   "metadata": {},
   "outputs": [],
   "source": [
    "# import data \n",
    "\n",
    "# data {\n",
    "#   int<lower=0> N_control;                  // Number of control samples\n",
    "#   int<lower=0> N_experiment;               // Number of experimental samples\n",
    "#   array[N_control] real y_control;         // Expression levels in control samples\n",
    "#   array[N_experiment] real y_experiment;   // Expression levels in experimental samples\n",
    "#   array[N_experiment] int<lower=1> guide; // Guide index for each experiment sample (1 to 5)\n",
    "# }\n",
    "\n",
    "data = {'N_control': N_control,\n",
    "        'N_experiment': N_experiment,\n",
    "        'y_control': y_control,\n",
    "        'y_experiment': y_experiment,\n",
    "        'guide': guide ,\n",
    "        }\n"
   ]
  },
  {
   "cell_type": "code",
   "execution_count": null,
   "metadata": {},
   "outputs": [],
   "source": [
    "model_fit = model.sample(data=data,thin=1,iter_sampling=1000,iter_warmup=50,seed=11051999)\n"
   ]
  },
  {
   "cell_type": "code",
   "execution_count": 117,
   "metadata": {},
   "outputs": [
    {
     "data": {
      "text/plain": [
       "{'lp__': -1571.45,\n",
       " 'mu_control': 20905.2,\n",
       " 'B': 0.887274,\n",
       " 'sigma_control': 4537.78,\n",
       " 'sigma_experiment': 3780.78,\n",
       " 'potency[1]': 0.63098,\n",
       " 'potency[2]': 0.17178,\n",
       " 'potency[3]': 0.462607,\n",
       " 'potency[4]': 0.578569,\n",
       " 'potency[5]': 0.487273,\n",
       " 'mu_experiment': 18531.1304}"
      ]
     },
     "execution_count": 117,
     "metadata": {},
     "output_type": "execute_result"
    }
   ],
   "source": [
    "model_fit.summary().Mean.to_dict()"
   ]
  }
 ],
 "metadata": {
  "kernelspec": {
   "display_name": "Python 3",
   "language": "python",
   "name": "python3"
  },
  "language_info": {
   "codemirror_mode": {
    "name": "ipython",
    "version": 3
   },
   "file_extension": ".py",
   "mimetype": "text/x-python",
   "name": "python",
   "nbconvert_exporter": "python",
   "pygments_lexer": "ipython3",
   "version": "3.9.20"
  }
 },
 "nbformat": 4,
 "nbformat_minor": 2
}
